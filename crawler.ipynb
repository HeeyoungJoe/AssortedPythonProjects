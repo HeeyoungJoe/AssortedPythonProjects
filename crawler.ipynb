{
  "nbformat": 4,
  "nbformat_minor": 0,
  "metadata": {
    "colab": {
      "provenance": [],
      "include_colab_link": true
    },
    "kernelspec": {
      "name": "python3",
      "display_name": "Python 3"
    },
    "language_info": {
      "name": "python"
    }
  },
  "cells": [
    {
      "cell_type": "markdown",
      "metadata": {
        "id": "view-in-github",
        "colab_type": "text"
      },
      "source": [
        "<a href=\"https://colab.research.google.com/github/HeeyoungJoe/AssortedPythonProjects/blob/main/crawler.ipynb\" target=\"_parent\"><img src=\"https://colab.research.google.com/assets/colab-badge.svg\" alt=\"Open In Colab\"/></a>"
      ]
    },
    {
      "cell_type": "code",
      "source": [
        "!git clone https://github.com/HeeyoungJoe/AssortedPythonProjects.git\n",
        "!cd AssortedPythonProjects \n"
      ],
      "metadata": {
        "colab": {
          "base_uri": "https://localhost:8080/"
        },
        "id": "YhQJGsPCkBhG",
        "outputId": "394397d2-aede-42ca-f989-0d9684d92d69"
      },
      "execution_count": 1,
      "outputs": [
        {
          "output_type": "stream",
          "name": "stdout",
          "text": [
            "Cloning into 'AssortedPythonProjects'...\n",
            "remote: Enumerating objects: 8, done.\u001b[K\n",
            "remote: Counting objects: 100% (8/8), done.\u001b[K\n",
            "remote: Compressing objects: 100% (8/8), done.\u001b[K\n",
            "remote: Total 8 (delta 1), reused 0 (delta 0), pack-reused 0\u001b[K\n",
            "Unpacking objects: 100% (8/8), 6.32 KiB | 3.16 MiB/s, done.\n"
          ]
        }
      ]
    },
    {
      "cell_type": "code",
      "source": [
        "!pwd"
      ],
      "metadata": {
        "id": "Iz2oP2pumK6M",
        "colab": {
          "base_uri": "https://localhost:8080/"
        },
        "outputId": "6e586947-cc8d-431c-e330-d44c67de0873"
      },
      "execution_count": 2,
      "outputs": [
        {
          "output_type": "stream",
          "name": "stdout",
          "text": [
            "/content\n"
          ]
        }
      ]
    },
    {
      "cell_type": "code",
      "source": [
        "!cd AssortedPythonProjects \n",
        "!git add .\n",
        "!git commit -m \"[HY]initial directory update\"\n",
        "!git push"
      ],
      "metadata": {
        "colab": {
          "base_uri": "https://localhost:8080/"
        },
        "id": "W77J-7nRlgeG",
        "outputId": "0e57c00b-83e0-4d28-cba8-126a999d3078"
      },
      "execution_count": 3,
      "outputs": [
        {
          "output_type": "stream",
          "name": "stdout",
          "text": [
            "fatal: not a git repository (or any of the parent directories): .git\n",
            "fatal: not a git repository (or any of the parent directories): .git\n",
            "fatal: not a git repository (or any of the parent directories): .git\n"
          ]
        }
      ]
    },
    {
      "cell_type": "markdown",
      "source": [
        "<h1>창업진흥원 사업공고를 크롤링한다</h1>"
      ],
      "metadata": {
        "id": "dAebIgj8j4Op"
      }
    },
    {
      "cell_type": "code",
      "source": [
        "!cd AssortedPythonProjects \n",
        "!mkdir 23-05-kised-business-announcement-crawler"
      ],
      "metadata": {
        "id": "7oypgdSUlNH_"
      },
      "execution_count": null,
      "outputs": []
    },
    {
      "cell_type": "code",
      "execution_count": null,
      "metadata": {
        "id": "NeBScEgB1Ngi"
      },
      "outputs": [],
      "source": []
    },
    {
      "cell_type": "markdown",
      "source": [
        "<h1>K Startup 모집공고를 크롤링한다</h1>"
      ],
      "metadata": {
        "id": "JKV3tQqoj83i"
      }
    },
    {
      "cell_type": "code",
      "source": [
        "!cd AssortedPythonProjects \n",
        "!mkdir 23-05-kStartUp-business-announcement-ongoing-crawler"
      ],
      "metadata": {
        "id": "azWgSZjklpCW"
      },
      "execution_count": null,
      "outputs": []
    },
    {
      "cell_type": "markdown",
      "source": [],
      "metadata": {
        "id": "Ata_ennEloxJ"
      }
    }
  ]
}