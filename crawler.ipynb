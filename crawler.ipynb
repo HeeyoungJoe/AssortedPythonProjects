{
  "nbformat": 4,
  "nbformat_minor": 0,
  "metadata": {
    "colab": {
      "provenance": [],
      "include_colab_link": true
    },
    "kernelspec": {
      "name": "python3",
      "display_name": "Python 3"
    },
    "language_info": {
      "name": "python"
    }
  },
  "cells": [
    {
      "cell_type": "markdown",
      "metadata": {
        "id": "view-in-github",
        "colab_type": "text"
      },
      "source": [
        "<a href=\"https://colab.research.google.com/github/HeeyoungJoe/AssortedPythonProjects/blob/main/crawler.ipynb\" target=\"_parent\"><img src=\"https://colab.research.google.com/assets/colab-badge.svg\" alt=\"Open In Colab\"/></a>"
      ]
    },
    {
      "cell_type": "markdown",
      "source": [
        "<h3>참고자료 목록</h3>\n",
        "<a href=\"https://ndb796.tistory.com/120\">  beautiful soup으로 공지사항 긁어오기</a><br>\n",
        "<a href=\"https://www.crummy.com/software/BeautifulSoup/bs4/doc.ko/\"> beautiful soup 문서 </a>"
      ],
      "metadata": {
        "id": "bsaoErWdx7fA"
      }
    },
    {
      "cell_type": "code",
      "source": [
        "!git clone https://github.com/HeeyoungJoe/AssortedPythonProjects.git\n",
        "!cd AssortedPythonProjects \n"
      ],
      "metadata": {
        "colab": {
          "base_uri": "https://localhost:8080/"
        },
        "id": "YhQJGsPCkBhG",
        "outputId": "394397d2-aede-42ca-f989-0d9684d92d69"
      },
      "execution_count": null,
      "outputs": [
        {
          "output_type": "stream",
          "name": "stdout",
          "text": [
            "Cloning into 'AssortedPythonProjects'...\n",
            "remote: Enumerating objects: 8, done.\u001b[K\n",
            "remote: Counting objects: 100% (8/8), done.\u001b[K\n",
            "remote: Compressing objects: 100% (8/8), done.\u001b[K\n",
            "remote: Total 8 (delta 1), reused 0 (delta 0), pack-reused 0\u001b[K\n",
            "Unpacking objects: 100% (8/8), 6.32 KiB | 3.16 MiB/s, done.\n"
          ]
        }
      ]
    },
    {
      "cell_type": "markdown",
      "source": [
        "<h1>창업진흥원 사업공고를 크롤링한다</h1>"
      ],
      "metadata": {
        "id": "dAebIgj8j4Op"
      }
    },
    {
      "cell_type": "code",
      "execution_count": 4,
      "metadata": {
        "id": "NeBScEgB1Ngi"
      },
      "outputs": [],
      "source": [
        "import requests\n",
        "\n",
        "from bs4 import BeautifulSoup"
      ]
    },
    {
      "cell_type": "code",
      "source": [
        "# 특정 URL에 접속하는 요청(Request) 객체를 생성합니다.\n",
        "\n",
        "request = requests.get('https://www.kised.or.kr/misAnnouncement/index.es?mid=a10302000000')\n",
        "\n",
        "\n",
        "\n",
        "# 접속한 이후의 웹 사이트 소스코드를 추출합니다.\n",
        "\n",
        "html = request.text"
      ],
      "metadata": {
        "id": "18klkCn0yhbZ"
      },
      "execution_count": 5,
      "outputs": []
    },
    {
      "cell_type": "code",
      "source": [
        "# HTML 소스코드를 파이썬 객체로 변환합니다.\n",
        "\n",
        "soup = BeautifulSoup(html, 'html.parser')\n",
        "print(soup.prettify())"
      ],
      "metadata": {
        "id": "UjOYeWRryfRR"
      },
      "execution_count": null,
      "outputs": []
    },
    {
      "cell_type": "markdown",
      "source": [
        "          \n",
        "          <a href=\"https://www.k-startup.go.kr/web/contents/bizpbanc-ongoing.do?schM=view&amp;pbancSn=162854\" rel=\"noopener noreferrer\" target=\"_blank\" title=\"새창으로\">\n",
        "           <b class=\"ls_tit\">\n",
        "            2023년 예비창업·초기창업·창업도약 패키지 사업 신규 주관기관 모집공고\n",
        "           </b>\n",
        "          </a>\n",
        "          \n",
        "          <dl class=\"clearfix\">\n",
        "           <dt>\n",
        "            기관명 :\n",
        "           </dt>\n",
        "           <dd>\n",
        "            창업진흥원\n",
        "           </dd>\n",
        "           <dt>\n",
        "            마감일자 :\n",
        "           </dt>\n",
        "           <dd>\n",
        "            2023-01-09 16:00:00\n",
        "           </dd>\n",
        "          </dl>\n",
        "\n",
        "          <span class=\"state end\"><span> 종료</span></span>\n",
        "          <a class=\"btn-m\" href=\"https://www.k-startup.go.kr/web/contents/bizpbanc-ongoing.do?schM=view&amp;pbancSn=162854\" rel=\"noopener noreferrer\" target=\"_blank\" title=\"새창으로\">\n",
        "           자세히 보기\n",
        "           <i class=\"xi-external-link\">\n",
        "           </i>\n",
        "          </a>"
      ],
      "metadata": {
        "id": "xs6CLZKG3sRM"
      }
    },
    {
      "cell_type": "code",
      "source": [
        "#공고 이름만 모아보기\n",
        "soup.find_all('b')"
      ],
      "metadata": {
        "id": "FHjS7ziQ0N-K"
      },
      "execution_count": null,
      "outputs": []
    },
    {
      "cell_type": "markdown",
      "source": [
        "\n",
        "\n",
        "```\n",
        " <b class=\"ls_tit\">\n",
        "        2023년 예비창업·초기창업·창업도약 패키지 사업 신규 주관기관 모집공고\n",
        "       </b>\n",
        "```\n",
        "\n"
      ],
      "metadata": {
        "id": "W2o8f02G5J98"
      }
    },
    {
      "cell_type": "code",
      "source": [
        "#공고 자세히보기 링크만 모아보기\n",
        "soup.find_all('a',class_='btn-m')"
      ],
      "metadata": {
        "id": "4OzVUMGU0BT9"
      },
      "execution_count": null,
      "outputs": []
    },
    {
      "cell_type": "markdown",
      "source": [
        "\n",
        "```\n",
        "\n",
        "<a class=\"btn-m\" href=\"https://www.k-startup.go.kr/web/contents/bizpbanc-ongoing.do?schM=view&amp;pbancSn=161526\" rel=\"noopener noreferrer\" target=\"_blank\" title=\"새창으로\">자세히 보기 <i class=\"xi-external-link\"></i></a>,\n",
        "\n",
        "```"
      ],
      "metadata": {
        "id": "c7J0TwXI43s7"
      }
    },
    {
      "cell_type": "code",
      "source": [
        "len(soup.find_all('a',class_='btn-m'))"
      ],
      "metadata": {
        "colab": {
          "base_uri": "https://localhost:8080/"
        },
        "id": "IZEcuFKf4fA1",
        "outputId": "bc933a7c-27af-4c70-cb7b-166ef696b8f2"
      },
      "execution_count": 24,
      "outputs": [
        {
          "output_type": "execute_result",
          "data": {
            "text/plain": [
              "30"
            ]
          },
          "metadata": {},
          "execution_count": 24
        }
      ]
    },
    {
      "cell_type": "code",
      "source": [
        "links=soup.find_all('a',class_='btn-m')\n",
        "print(links[0])"
      ],
      "metadata": {
        "id": "XsQeD7ro4nTa"
      },
      "execution_count": null,
      "outputs": []
    },
    {
      "cell_type": "code",
      "source": [
        "# 태그를 포함하는 요소를 추출합니다.\n",
        "\n",
        "links = soup.select('td > a')"
      ],
      "metadata": {
        "id": "9TaN9EFyy3vu"
      },
      "execution_count": null,
      "outputs": []
    },
    {
      "cell_type": "markdown",
      "source": [
        "<h1>K Startup 모집공고를 크롤링한다</h1>"
      ],
      "metadata": {
        "id": "JKV3tQqoj83i"
      }
    },
    {
      "cell_type": "markdown",
      "source": [],
      "metadata": {
        "id": "Ata_ennEloxJ"
      }
    }
  ]
}