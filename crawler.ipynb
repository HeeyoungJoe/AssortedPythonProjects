{
  "nbformat": 4,
  "nbformat_minor": 0,
  "metadata": {
    "colab": {
      "provenance": [],
      "include_colab_link": true
    },
    "kernelspec": {
      "name": "python3",
      "display_name": "Python 3"
    },
    "language_info": {
      "name": "python"
    }
  },
  "cells": [
    {
      "cell_type": "markdown",
      "metadata": {
        "id": "view-in-github",
        "colab_type": "text"
      },
      "source": [
        "<a href=\"https://colab.research.google.com/github/HeeyoungJoe/AssortedPythonProjects/blob/main/crawler.ipynb\" target=\"_parent\"><img src=\"https://colab.research.google.com/assets/colab-badge.svg\" alt=\"Open In Colab\"/></a>"
      ]
    },
    {
      "cell_type": "code",
      "source": [
        "!git clone https://github.com/HeeyoungJoe/AssortedPythonProjects.git\n",
        "!cd AssortedPythonProjects \n"
      ],
      "metadata": {
        "colab": {
          "base_uri": "https://localhost:8080/"
        },
        "id": "YhQJGsPCkBhG",
        "outputId": "109ec572-3a0c-4751-ee4b-6b1691e79388"
      },
      "execution_count": null,
      "outputs": [
        {
          "output_type": "stream",
          "name": "stdout",
          "text": [
            "Cloning into 'AssortedPythonProjects'...\n",
            "remote: Enumerating objects: 5, done.\u001b[K\n",
            "remote: Counting objects: 100% (5/5), done.\u001b[K\n",
            "remote: Compressing objects: 100% (5/5), done.\u001b[K\n",
            "Unpacking objects: 100% (5/5), 4.97 KiB | 1.66 MiB/s, done.\n",
            "remote: Total 5 (delta 0), reused 0 (delta 0), pack-reused 0\u001b[K\n"
          ]
        }
      ]
    },
    {
      "cell_type": "code",
      "source": [],
      "metadata": {
        "id": "Iz2oP2pumK6M"
      },
      "execution_count": null,
      "outputs": []
    },
    {
      "cell_type": "code",
      "source": [
        "!cd AssortedPythonProjects \n",
        "!git add .\n",
        "!git commit -m \"[HY]initial directory update\"\n",
        "!git push"
      ],
      "metadata": {
        "colab": {
          "base_uri": "https://localhost:8080/"
        },
        "id": "W77J-7nRlgeG",
        "outputId": "f2c67c17-9c79-4086-df4e-ce48f7c45637"
      },
      "execution_count": null,
      "outputs": [
        {
          "output_type": "stream",
          "name": "stdout",
          "text": [
            "fatal: not a git repository (or any of the parent directories): .git\n",
            "fatal: not a git repository (or any of the parent directories): .git\n",
            "fatal: not a git repository (or any of the parent directories): .git\n"
          ]
        }
      ]
    },
    {
      "cell_type": "markdown",
      "source": [
        "<h1>창업진흥원 사업공고를 크롤링한다</h1>"
      ],
      "metadata": {
        "id": "dAebIgj8j4Op"
      }
    },
    {
      "cell_type": "code",
      "source": [
        "!cd AssortedPythonProjects \n",
        "!mkdir 23-05-kised-business-announcement-crawler"
      ],
      "metadata": {
        "id": "7oypgdSUlNH_"
      },
      "execution_count": null,
      "outputs": []
    },
    {
      "cell_type": "code",
      "execution_count": null,
      "metadata": {
        "id": "NeBScEgB1Ngi"
      },
      "outputs": [],
      "source": []
    },
    {
      "cell_type": "markdown",
      "source": [
        "<h1>K Startup 모집공고를 크롤링한다</h1>"
      ],
      "metadata": {
        "id": "JKV3tQqoj83i"
      }
    },
    {
      "cell_type": "code",
      "source": [
        "!cd AssortedPythonProjects \n",
        "!mkdir 23-05-kStartUp-business-announcement-ongoing-crawler"
      ],
      "metadata": {
        "id": "azWgSZjklpCW"
      },
      "execution_count": null,
      "outputs": []
    },
    {
      "cell_type": "markdown",
      "source": [],
      "metadata": {
        "id": "Ata_ennEloxJ"
      }
    }
  ]
}